{
 "cells": [
  {
   "cell_type": "code",
   "execution_count": 7,
   "metadata": {},
   "outputs": [],
   "source": [
    "import pandas as pd\n",
    "import seaborn as sns\n",
    "import matplotlib.pyplot as plt\n"
   ]
  },
  {
   "cell_type": "markdown",
   "metadata": {},
   "source": [
    "#The Credit Card Fraud Dataset has:\n",
    "\n",
    "Time → seconds elapsed between this transaction and the first transaction.\n",
    "\n",
    "V1–V28 → features created by PCA (Principal Component Analysis) to protect sensitive cardholder data. Their original meaning isn’t shared (anonymized).\n",
    "\n",
    "Amount → transaction amount.\n",
    "\n",
    "Class → fraud indicator (0 = Non-fraud, 1 = Fraud)"
   ]
  },
  {
   "cell_type": "code",
   "execution_count": 9,
   "metadata": {},
   "outputs": [
    {
     "data": {
      "text/html": [
       "<div>\n",
       "<style scoped>\n",
       "    .dataframe tbody tr th:only-of-type {\n",
       "        vertical-align: middle;\n",
       "    }\n",
       "\n",
       "    .dataframe tbody tr th {\n",
       "        vertical-align: top;\n",
       "    }\n",
       "\n",
       "    .dataframe thead th {\n",
       "        text-align: right;\n",
       "    }\n",
       "</style>\n",
       "<table border=\"1\" class=\"dataframe\">\n",
       "  <thead>\n",
       "    <tr style=\"text-align: right;\">\n",
       "      <th></th>\n",
       "      <th>Time</th>\n",
       "      <th>V1</th>\n",
       "      <th>V2</th>\n",
       "      <th>V3</th>\n",
       "      <th>V4</th>\n",
       "      <th>V5</th>\n",
       "      <th>V6</th>\n",
       "      <th>V7</th>\n",
       "      <th>V8</th>\n",
       "      <th>V9</th>\n",
       "      <th>...</th>\n",
       "      <th>V21</th>\n",
       "      <th>V22</th>\n",
       "      <th>V23</th>\n",
       "      <th>V24</th>\n",
       "      <th>V25</th>\n",
       "      <th>V26</th>\n",
       "      <th>V27</th>\n",
       "      <th>V28</th>\n",
       "      <th>Amount</th>\n",
       "      <th>Class</th>\n",
       "    </tr>\n",
       "  </thead>\n",
       "  <tbody>\n",
       "    <tr>\n",
       "      <th>0</th>\n",
       "      <td>0.0</td>\n",
       "      <td>-1.359807</td>\n",
       "      <td>-0.072781</td>\n",
       "      <td>2.536347</td>\n",
       "      <td>1.378155</td>\n",
       "      <td>-0.338321</td>\n",
       "      <td>0.462388</td>\n",
       "      <td>0.239599</td>\n",
       "      <td>0.098698</td>\n",
       "      <td>0.363787</td>\n",
       "      <td>...</td>\n",
       "      <td>-0.018307</td>\n",
       "      <td>0.277838</td>\n",
       "      <td>-0.110474</td>\n",
       "      <td>0.066928</td>\n",
       "      <td>0.128539</td>\n",
       "      <td>-0.189115</td>\n",
       "      <td>0.133558</td>\n",
       "      <td>-0.021053</td>\n",
       "      <td>149.62</td>\n",
       "      <td>0</td>\n",
       "    </tr>\n",
       "    <tr>\n",
       "      <th>1</th>\n",
       "      <td>0.0</td>\n",
       "      <td>1.191857</td>\n",
       "      <td>0.266151</td>\n",
       "      <td>0.166480</td>\n",
       "      <td>0.448154</td>\n",
       "      <td>0.060018</td>\n",
       "      <td>-0.082361</td>\n",
       "      <td>-0.078803</td>\n",
       "      <td>0.085102</td>\n",
       "      <td>-0.255425</td>\n",
       "      <td>...</td>\n",
       "      <td>-0.225775</td>\n",
       "      <td>-0.638672</td>\n",
       "      <td>0.101288</td>\n",
       "      <td>-0.339846</td>\n",
       "      <td>0.167170</td>\n",
       "      <td>0.125895</td>\n",
       "      <td>-0.008983</td>\n",
       "      <td>0.014724</td>\n",
       "      <td>2.69</td>\n",
       "      <td>0</td>\n",
       "    </tr>\n",
       "    <tr>\n",
       "      <th>2</th>\n",
       "      <td>1.0</td>\n",
       "      <td>-1.358354</td>\n",
       "      <td>-1.340163</td>\n",
       "      <td>1.773209</td>\n",
       "      <td>0.379780</td>\n",
       "      <td>-0.503198</td>\n",
       "      <td>1.800499</td>\n",
       "      <td>0.791461</td>\n",
       "      <td>0.247676</td>\n",
       "      <td>-1.514654</td>\n",
       "      <td>...</td>\n",
       "      <td>0.247998</td>\n",
       "      <td>0.771679</td>\n",
       "      <td>0.909412</td>\n",
       "      <td>-0.689281</td>\n",
       "      <td>-0.327642</td>\n",
       "      <td>-0.139097</td>\n",
       "      <td>-0.055353</td>\n",
       "      <td>-0.059752</td>\n",
       "      <td>378.66</td>\n",
       "      <td>0</td>\n",
       "    </tr>\n",
       "    <tr>\n",
       "      <th>3</th>\n",
       "      <td>1.0</td>\n",
       "      <td>-0.966272</td>\n",
       "      <td>-0.185226</td>\n",
       "      <td>1.792993</td>\n",
       "      <td>-0.863291</td>\n",
       "      <td>-0.010309</td>\n",
       "      <td>1.247203</td>\n",
       "      <td>0.237609</td>\n",
       "      <td>0.377436</td>\n",
       "      <td>-1.387024</td>\n",
       "      <td>...</td>\n",
       "      <td>-0.108300</td>\n",
       "      <td>0.005274</td>\n",
       "      <td>-0.190321</td>\n",
       "      <td>-1.175575</td>\n",
       "      <td>0.647376</td>\n",
       "      <td>-0.221929</td>\n",
       "      <td>0.062723</td>\n",
       "      <td>0.061458</td>\n",
       "      <td>123.50</td>\n",
       "      <td>0</td>\n",
       "    </tr>\n",
       "    <tr>\n",
       "      <th>4</th>\n",
       "      <td>2.0</td>\n",
       "      <td>-1.158233</td>\n",
       "      <td>0.877737</td>\n",
       "      <td>1.548718</td>\n",
       "      <td>0.403034</td>\n",
       "      <td>-0.407193</td>\n",
       "      <td>0.095921</td>\n",
       "      <td>0.592941</td>\n",
       "      <td>-0.270533</td>\n",
       "      <td>0.817739</td>\n",
       "      <td>...</td>\n",
       "      <td>-0.009431</td>\n",
       "      <td>0.798278</td>\n",
       "      <td>-0.137458</td>\n",
       "      <td>0.141267</td>\n",
       "      <td>-0.206010</td>\n",
       "      <td>0.502292</td>\n",
       "      <td>0.219422</td>\n",
       "      <td>0.215153</td>\n",
       "      <td>69.99</td>\n",
       "      <td>0</td>\n",
       "    </tr>\n",
       "  </tbody>\n",
       "</table>\n",
       "<p>5 rows × 31 columns</p>\n",
       "</div>"
      ],
      "text/plain": [
       "   Time        V1        V2        V3        V4        V5        V6        V7  \\\n",
       "0   0.0 -1.359807 -0.072781  2.536347  1.378155 -0.338321  0.462388  0.239599   \n",
       "1   0.0  1.191857  0.266151  0.166480  0.448154  0.060018 -0.082361 -0.078803   \n",
       "2   1.0 -1.358354 -1.340163  1.773209  0.379780 -0.503198  1.800499  0.791461   \n",
       "3   1.0 -0.966272 -0.185226  1.792993 -0.863291 -0.010309  1.247203  0.237609   \n",
       "4   2.0 -1.158233  0.877737  1.548718  0.403034 -0.407193  0.095921  0.592941   \n",
       "\n",
       "         V8        V9  ...       V21       V22       V23       V24       V25  \\\n",
       "0  0.098698  0.363787  ... -0.018307  0.277838 -0.110474  0.066928  0.128539   \n",
       "1  0.085102 -0.255425  ... -0.225775 -0.638672  0.101288 -0.339846  0.167170   \n",
       "2  0.247676 -1.514654  ...  0.247998  0.771679  0.909412 -0.689281 -0.327642   \n",
       "3  0.377436 -1.387024  ... -0.108300  0.005274 -0.190321 -1.175575  0.647376   \n",
       "4 -0.270533  0.817739  ... -0.009431  0.798278 -0.137458  0.141267 -0.206010   \n",
       "\n",
       "        V26       V27       V28  Amount  Class  \n",
       "0 -0.189115  0.133558 -0.021053  149.62      0  \n",
       "1  0.125895 -0.008983  0.014724    2.69      0  \n",
       "2 -0.139097 -0.055353 -0.059752  378.66      0  \n",
       "3 -0.221929  0.062723  0.061458  123.50      0  \n",
       "4  0.502292  0.219422  0.215153   69.99      0  \n",
       "\n",
       "[5 rows x 31 columns]"
      ]
     },
     "execution_count": 9,
     "metadata": {},
     "output_type": "execute_result"
    }
   ],
   "source": [
    "# load the dataset into a DataFrame called df\n",
    "df = pd.read_csv(\"../data/creditcard.csv\")\n",
    "df.head() "
   ]
  },
  {
   "cell_type": "code",
   "execution_count": 10,
   "metadata": {},
   "outputs": [
    {
     "name": "stdout",
     "output_type": "stream",
     "text": [
      "<class 'pandas.core.frame.DataFrame'>\n",
      "RangeIndex: 284807 entries, 0 to 284806\n",
      "Data columns (total 31 columns):\n",
      " #   Column  Non-Null Count   Dtype  \n",
      "---  ------  --------------   -----  \n",
      " 0   Time    284807 non-null  float64\n",
      " 1   V1      284807 non-null  float64\n",
      " 2   V2      284807 non-null  float64\n",
      " 3   V3      284807 non-null  float64\n",
      " 4   V4      284807 non-null  float64\n",
      " 5   V5      284807 non-null  float64\n",
      " 6   V6      284807 non-null  float64\n",
      " 7   V7      284807 non-null  float64\n",
      " 8   V8      284807 non-null  float64\n",
      " 9   V9      284807 non-null  float64\n",
      " 10  V10     284807 non-null  float64\n",
      " 11  V11     284807 non-null  float64\n",
      " 12  V12     284807 non-null  float64\n",
      " 13  V13     284807 non-null  float64\n",
      " 14  V14     284807 non-null  float64\n",
      " 15  V15     284807 non-null  float64\n",
      " 16  V16     284807 non-null  float64\n",
      " 17  V17     284807 non-null  float64\n",
      " 18  V18     284807 non-null  float64\n",
      " 19  V19     284807 non-null  float64\n",
      " 20  V20     284807 non-null  float64\n",
      " 21  V21     284807 non-null  float64\n",
      " 22  V22     284807 non-null  float64\n",
      " 23  V23     284807 non-null  float64\n",
      " 24  V24     284807 non-null  float64\n",
      " 25  V25     284807 non-null  float64\n",
      " 26  V26     284807 non-null  float64\n",
      " 27  V27     284807 non-null  float64\n",
      " 28  V28     284807 non-null  float64\n",
      " 29  Amount  284807 non-null  float64\n",
      " 30  Class   284807 non-null  int64  \n",
      "dtypes: float64(30), int64(1)\n",
      "memory usage: 67.4 MB\n"
     ]
    },
    {
     "data": {
      "text/plain": [
       "Class\n",
       "0    284315\n",
       "1       492\n",
       "Name: count, dtype: int64"
      ]
     },
     "execution_count": 10,
     "metadata": {},
     "output_type": "execute_result"
    }
   ],
   "source": [
    "df.info()\n",
    "df['Class'].value_counts()"
   ]
  },
  {
   "cell_type": "markdown",
   "metadata": {},
   "source": [
    "# Plot fraud vs non-fraud counts\n"
   ]
  },
  {
   "cell_type": "code",
   "execution_count": 12,
   "metadata": {},
   "outputs": [
    {
     "data": {
      "image/png": "[encoded data removed]",
      "text/plain": [
       "<Figure size 640x480 with 1 Axes>"
      ]
     },
     "metadata": {},
     "output_type": "display_data"
    }
   ],
   "source": [
    "# plot fraud vs non-fraud counts\n",
    "sns.countplot(x='Class', data=df)\n",
    "plt.yscale('log')\n",
    "plt.show()"
   ]
  },
  {
   "cell_type": "code",
   "execution_count": 13,
   "metadata": {},
   "outputs": [
    {
     "data": {
      "image/png": "[encoded data removed]",
      "text/plain": [
       "<Figure size 640x480 with 1 Axes>"
      ]
     },
     "metadata": {},
     "output_type": "display_data"
    }
   ],
   "source": [
    "fig2=df['Class'].value_counts().plot.pie(autopct='%1.2f%%',\n",
    "    labels=[\"Non-Fraud\",\"Fraud\"],\n",
    "    colors=['skyblue','salmon'],\n",
    "    explode=[0,0.5]\n",
    "    )\n",
    "\n",
    "plt.ylabel(\"\")\n",
    "plt.show()\n",
    "        "
   ]
  },
  {
   "cell_type": "markdown",
   "metadata": {},
   "source": [
    "# Distribution of transaction amounts\n"
   ]
  },
  {
   "cell_type": "code",
   "execution_count": 15,
   "metadata": {},
   "outputs": [
    {
     "data": {
      "image/png": "[encoded data removed]",
      "text/plain": [
       "<Figure size 640x480 with 1 Axes>"
      ]
     },
     "metadata": {},
     "output_type": "display_data"
    }
   ],
   "source": [
    "# TODO: plot histogram of Amount colored by Class\n",
    "sns.histplot(x='Amount', data=df, hue='Class', bins=50, log_scale=True)\n",
    "plt.show()"
   ]
  },
  {
   "cell_type": "markdown",
   "metadata": {},
   "source": [
    "# Correlation heatmap\n"
   ]
  },
  {
   "cell_type": "code",
   "execution_count": 17,
   "metadata": {},
   "outputs": [
    {
     "data": {
      "image/png": "[encoded data removed]",
      "text/plain": [
       "<Figure size 1200x800 with 2 Axes>"
      ]
     },
     "metadata": {},
     "output_type": "display_data"
    }
   ],
   "source": [
    "# TODO: correlation heatmap\n",
    "corr = df.corr()\n",
    "plt.figure(figsize=(12,8))\n",
    "sns.heatmap(corr, cmap='coolwarm')\n",
    "plt.show()"
   ]
  },
  {
   "cell_type": "markdown",
   "metadata": {},
   "source": [
    "# Day2-understanding relationship between amount and class"
   ]
  },
  {
   "cell_type": "code",
   "execution_count": 20,
   "metadata": {},
   "outputs": [
    {
     "name": "stdout",
     "output_type": "stream",
     "text": [
      "Class\n",
      "0     88.291022\n",
      "1    122.211321\n",
      "Name: Amount, dtype: float64\n"
     ]
    }
   ],
   "source": [
    "class_amount=df.groupby('Class')['Amount'].mean()\n",
    "print(class_amount)\n"
   ]
  },
  {
   "cell_type": "code",
   "execution_count": 21,
   "metadata": {},
   "outputs": [
    {
     "data": {
      "image/png": "[encoded data removed]",
      "text/plain": [
       "<Figure size 640x480 with 1 Axes>"
      ]
     },
     "metadata": {},
     "output_type": "display_data"
    }
   ],
   "source": [
    "sns.barplot(x=class_amount.index,y=class_amount.values)\n",
    "plt.show()"
   ]
  },
  {
   "cell_type": "markdown",
   "metadata": {},
   "source": [
    "#non fraud transactions are all below 100 with mean value= 88.29 and fraudulent transactions are of higher values with mean= 122.21"
   ]
  },
  {
   "cell_type": "code",
   "execution_count": 23,
   "metadata": {},
   "outputs": [
    {
     "name": "stdout",
     "output_type": "stream",
     "text": [
      "            Time         V1         V2         V3         V4          V5  \\\n",
      "274771  166198.0 -35.548539 -31.850484 -48.325589  15.304184 -113.743307   \n",
      "58465    48401.0 -36.802320 -63.344698 -20.645794  16.715537  -20.672064   \n",
      "151296   95286.0 -34.549296 -60.464618 -21.340854  16.875344  -19.229075   \n",
      "46841    42951.0 -23.712839 -42.172688 -13.320825   9.925019  -13.945538   \n",
      "54018    46253.0 -21.780665 -38.305310 -12.122469   9.752791  -12.880794   \n",
      "...          ...        ...        ...        ...        ...         ...   \n",
      "234574  148028.0  -1.053840   4.362801  -6.023534   5.304534    1.480738   \n",
      "234705  148074.0  -2.219219   0.727831  -5.458230   5.924850    3.932464   \n",
      "237107  149096.0   1.184891   3.152084  -6.134780   5.531252    1.733867   \n",
      "248296  153875.0  -0.613696   3.698772  -5.534941   5.620486    1.649263   \n",
      "274382  165981.0  -5.766879  -8.402154   0.056543   6.950983    9.880564   \n",
      "\n",
      "               V6          V7         V8        V9  ...        V21        V22  \\\n",
      "274771  73.301626  120.589494 -27.347360 -3.872425  ... -21.620120   5.712303   \n",
      "58465    7.694002   24.956587  -4.730111 -2.687312  ...  11.455313 -10.933144   \n",
      "151296   6.335259   24.422716  -4.964566  0.188912  ...  11.502580  -9.499423   \n",
      "46841    5.564891   15.710644  -2.844253 -1.580725  ...   7.921600  -6.320710   \n",
      "54018    4.256017   14.785051  -2.818253 -0.667338  ...   7.437478  -5.619439   \n",
      "...           ...         ...        ...       ...  ...        ...        ...   \n",
      "234574  -2.193821   -1.530817   0.626857 -4.037021  ...   0.397954  -0.945402   \n",
      "234705  -3.085984   -1.677870   0.865075 -3.177260  ...   0.417472  -0.817343   \n",
      "237107  -1.816861   -0.916696   0.265568 -3.158014  ...   0.124236  -0.823865   \n",
      "248296  -2.335145   -0.907188   0.706362 -3.747646  ...   0.319261  -0.471379   \n",
      "274382  -5.773192   -5.748879   0.721743 -1.076274  ...   0.880395  -0.130436   \n",
      "\n",
      "              V23       V24       V25       V26        V27        V28  \\\n",
      "274771  -1.581098  4.584549  4.554683  3.415636  31.612198 -15.430084   \n",
      "58465  -17.173665  1.180700 -7.025783 -2.534330  -3.602479   3.450224   \n",
      "151296 -16.513186  0.744341 -7.081325 -2.604551  -3.550963   3.250802   \n",
      "46841  -11.310338  0.404175 -4.547278 -1.577118  -2.357385   2.253662   \n",
      "54018  -10.547038  0.653249 -4.232409 -0.480459  -2.257913   2.082488   \n",
      "...           ...       ...       ...       ...        ...        ...   \n",
      "234574  -0.376138 -0.220480  0.264003  0.048935   0.847220   0.531932   \n",
      "234705  -0.028752  0.025723 -0.825835 -0.013089   0.413291  -0.131387   \n",
      "237107  -0.079887  0.028828  0.389711  0.060171   0.485187   0.326552   \n",
      "248296  -0.075890 -0.667909 -0.642848  0.070600   0.488410   0.292345   \n",
      "274382   2.241471  0.665346 -1.890041 -0.120803   0.073269   0.583799   \n",
      "\n",
      "          Amount  Class  \n",
      "274771  25691.16      0  \n",
      "58465   19656.53      0  \n",
      "151296  18910.00      0  \n",
      "46841   12910.93      0  \n",
      "54018   11898.09      0  \n",
      "...          ...    ...  \n",
      "234574      0.00      1  \n",
      "234705      0.00      1  \n",
      "237107      0.00      1  \n",
      "248296      0.00      1  \n",
      "274382      0.00      1  \n",
      "\n",
      "[284807 rows x 31 columns]\n"
     ]
    }
   ],
   "source": [
    "df_sorted=df.sort_values(['Class','Amount'],ascending=[True,False]).copy()\n",
    "print(df_sorted)"
   ]
  },
  {
   "cell_type": "code",
   "execution_count": 24,
   "metadata": {},
   "outputs": [
    {
     "name": "stdout",
     "output_type": "stream",
     "text": [
      "        Class    Amount  row_number\n",
      "274771      0  25691.16           1\n",
      "58465       0  19656.53           2\n",
      "151296      0  18910.00           3\n",
      "46841       0  12910.93           4\n",
      "54018       0  11898.09           5\n",
      "169457      0  11789.84           6\n",
      "284249      0  10199.44           7\n",
      "227921      0  10000.00           8\n",
      "74699       0   8790.26           9\n",
      "245474      0   8787.00          10\n",
      "226690      0   8360.00          11\n",
      "228158      0   8182.70          12\n",
      "19760       0   7879.42          13\n",
      "240739      0   7862.39          14\n",
      "188560      0   7766.60          15\n",
      "1632        0   7712.43          16\n",
      "57209       0   7636.30          17\n",
      "201638      0   7583.32          18\n",
      "218985      0   7541.70          19\n",
      "23128       0   7429.15          20\n",
      "176049      1   2125.87           1\n",
      "6971        1   1809.68           2\n",
      "249167      1   1504.93           3\n",
      "89190       1   1402.16           4\n",
      "81609       1   1389.56           5\n",
      "95597       1   1354.25           6\n",
      "199896      1   1335.00           7\n",
      "10690       1   1218.89           8\n",
      "249239      1   1096.99           9\n",
      "233258      1    996.27          10\n",
      "203328      1    925.31          11\n",
      "146790      1    829.41          12\n",
      "107637      1    824.83          13\n",
      "44001       1    802.52          14\n",
      "39183       1    776.83          15\n",
      "10630       1    766.36          16\n",
      "16863       1    730.86          17\n",
      "212644      1    727.91          18\n",
      "195383      1    723.21          19\n",
      "215132      1    723.21          20\n"
     ]
    }
   ],
   "source": [
    "df_sorted['row_number']=df_sorted.groupby('Class').cumcount()+1\n",
    "#print(df_sorted[['Class','Amount','row_number']])\n",
    "req_data=df_sorted[['Class','Amount','row_number']]\n",
    "print(req_data[req_data['row_number']<=20])"
   ]
  },
  {
   "cell_type": "markdown",
   "metadata": {},
   "source": [
    "# amount is not the only parameter to judge fraudulent transactions are their are many fraudulent transactions with amount 0"
   ]
  },
  {
   "cell_type": "code",
   "execution_count": 26,
   "metadata": {},
   "outputs": [
    {
     "name": "stdout",
     "output_type": "stream",
     "text": [
      "Top 10 non fraud transactions\n",
      "        row_number  Class    Amount\n",
      "274771           1      0  25691.16\n",
      "58465            2      0  19656.53\n",
      "151296           3      0  18910.00\n",
      "46841            4      0  12910.93\n",
      "54018            5      0  11898.09\n",
      "169457           6      0  11789.84\n",
      "284249           7      0  10199.44\n",
      "227921           8      0  10000.00\n",
      "74699            9      0   8790.26\n",
      "245474          10      0   8787.00\n",
      "Top 10 fraud transactions\n",
      "        row_number  Class   Amount\n",
      "176049           1      1  2125.87\n",
      "6971             2      1  1809.68\n",
      "249167           3      1  1504.93\n",
      "89190            4      1  1402.16\n",
      "81609            5      1  1389.56\n",
      "95597            6      1  1354.25\n",
      "199896           7      1  1335.00\n",
      "10690            8      1  1218.89\n",
      "249239           9      1  1096.99\n",
      "233258          10      1   996.27\n"
     ]
    }
   ],
   "source": [
    "# top 10 non fraud transactions, Class=0\n",
    "\n",
    "top10_nonfraud=req_data[(req_data['Class']==0) & (req_data['row_number']<=10)]\n",
    "\n",
    "# top 10 fraud transactions, Class=1\n",
    "\n",
    "top10_fraud=req_data[(req_data['Class']==1) & (req_data['row_number']<=10)]\n",
    "\n",
    "print(\"Top 10 non fraud transactions\")\n",
    "print(top10_nonfraud[['row_number','Class','Amount']])\n",
    "\n",
    "print(\"Top 10 fraud transactions\")\n",
    "print(top10_fraud[['row_number','Class','Amount']])\n"
   ]
  },
  {
   "cell_type": "code",
   "execution_count": 27,
   "metadata": {},
   "outputs": [
    {
     "name": "stdout",
     "output_type": "stream",
     "text": [
      "Minimum amount in class0=  0.0\n",
      "Maximum amount in class0=  25691.16\n",
      "Minimum amount in class1=  0.0\n",
      "Maximum amount in class1=  2125.87\n"
     ]
    }
   ],
   "source": [
    "#min and max amount per class\n",
    "#filter each class\n",
    "\n",
    "#min amount in class0\n",
    "minAmt_class0=df[df['Class']==0]['Amount'].min()\n",
    "print(\"Minimum amount in class0= \",minAmt_class0)\n",
    "#max amount in class0\n",
    "maxAmt_class0=df[df['Class']==0]['Amount'].max()\n",
    "print(\"Maximum amount in class0= \",maxAmt_class0)\n",
    "\n",
    "\n",
    "#min amount in class1\n",
    "minAmt_class1=df[df['Class']==1]['Amount'].min()\n",
    "print(\"Minimum amount in class1= \",minAmt_class1)\n",
    "#max amount in class1\n",
    "maxAmt_class1=df[df['Class']==1]['Amount'].max()\n",
    "print(\"Maximum amount in class1= \",maxAmt_class1)"
   ]
  },
  {
   "cell_type": "code",
   "execution_count": 28,
   "metadata": {},
   "outputs": [
    {
     "name": "stdout",
     "output_type": "stream",
     "text": [
      "       min       max\n",
      "Class               \n",
      "0      0.0  25691.16\n",
      "1      0.0   2125.87\n"
     ]
    }
   ],
   "source": [
    "# groupby with agg\n",
    "\n",
    "min_max_eachclass= df.groupby('Class')['Amount'].agg(['min','max'])\n",
    "print(min_max_eachclass)"
   ]
  },
  {
   "cell_type": "markdown",
   "metadata": {},
   "source": [
    "# 1) Reusable functions (recommended)"
   ]
  },
  {
   "cell_type": "code",
   "execution_count": 30,
   "metadata": {},
   "outputs": [],
   "source": [
    "def add_row_number_to_grouped_data(\n",
    "    df: pd.DataFrame,\n",
    "    grouped_on: str=\"Class\",\n",
    "    order_column: str=\"Amount\",\n",
    "    ascending: bool=False,\n",
    "    row_col: str=\"row_number\"):\n",
    "\n",
    "    df_sorted=df.sort_values([grouped_on,order_column],ascending=[True,ascending]).copy()\n",
    "   \n",
    "    df_sorted[row_col]=df_sorted.groupby(grouped_on).cumcount()+1\n",
    "    return df_sorted\n",
    "\n",
    "#top n per group\n",
    "def top_n_per_group(\n",
    "    df: pd.DataFrame,\n",
    "    n: int=10,\n",
    "    grouped_on: str=\"Class\",\n",
    "    order_column: str=\"Amount\",\n",
    "    ascending: bool=False,\n",
    "    row_col: str=\"row_number\"):\n",
    "\n",
    "    with_rows=add_row_number_to_grouped_data(df,grouped_on,order_column,ascending,row_col)\n",
    "    return with_rows[with_rows[row_col]<=n]\n",
    "\n"
   ]
  },
  {
   "cell_type": "markdown",
   "metadata": {},
   "source": [
    "# How to use the above function credit card data"
   ]
  },
  {
   "cell_type": "code",
   "execution_count": 32,
   "metadata": {},
   "outputs": [
    {
     "name": "stdout",
     "output_type": "stream",
     "text": [
      "        Class    Amount  row_number\n",
      "274771      0  25691.16           1\n",
      "58465       0  19656.53           2\n",
      "151296      0  18910.00           3\n",
      "46841       0  12910.93           4\n",
      "54018       0  11898.09           5\n",
      "169457      0  11789.84           6\n",
      "284249      0  10199.44           7\n",
      "227921      0  10000.00           8\n",
      "74699       0   8790.26           9\n",
      "245474      0   8787.00          10\n",
      "226690      0   8360.00          11\n",
      "228158      0   8182.70          12\n"
     ]
    }
   ],
   "source": [
    "df_ranked=add_row_number_to_grouped_data(df,grouped_on=\"Class\",order_column=\"Amount\",ascending=False)\n",
    "print(df_ranked[['Class','Amount','row_number']].head(12))"
   ]
  },
  {
   "cell_type": "markdown",
   "metadata": {},
   "source": [
    "# fetching top n rows per class group "
   ]
  },
  {
   "cell_type": "code",
   "execution_count": 34,
   "metadata": {},
   "outputs": [
    {
     "name": "stdout",
     "output_type": "stream",
     "text": [
      "        Class    Amount  row_number\n",
      "274771      0  25691.16           1\n",
      "58465       0  19656.53           2\n",
      "151296      0  18910.00           3\n",
      "46841       0  12910.93           4\n",
      "54018       0  11898.09           5\n",
      "169457      0  11789.84           6\n",
      "284249      0  10199.44           7\n",
      "227921      0  10000.00           8\n",
      "74699       0   8790.26           9\n",
      "245474      0   8787.00          10\n",
      "226690      0   8360.00          11\n",
      "228158      0   8182.70          12\n",
      "19760       0   7879.42          13\n",
      "240739      0   7862.39          14\n",
      "188560      0   7766.60          15\n",
      "176049      1   2125.87           1\n",
      "6971        1   1809.68           2\n",
      "249167      1   1504.93           3\n",
      "89190       1   1402.16           4\n",
      "81609       1   1389.56           5\n",
      "95597       1   1354.25           6\n",
      "199896      1   1335.00           7\n",
      "10690       1   1218.89           8\n",
      "249239      1   1096.99           9\n",
      "233258      1    996.27          10\n",
      "203328      1    925.31          11\n",
      "146790      1    829.41          12\n",
      "107637      1    824.83          13\n",
      "44001       1    802.52          14\n",
      "39183       1    776.83          15\n"
     ]
    }
   ],
   "source": [
    "df_top_n_rows=top_n_per_group(df,n=15,grouped_on=\"Class\",order_column=\"Amount\",ascending=False)\n",
    "print(df_top_n_rows[[\"Class\",\"Amount\",\"row_number\"]])\n"
   ]
  },
  {
   "cell_type": "markdown",
   "metadata": {},
   "source": [
    "# Using above two functions in a class"
   ]
  },
  {
   "cell_type": "code",
   "execution_count": 36,
   "metadata": {},
   "outputs": [],
   "source": [
    "class Groupranker:\n",
    "    def __init__(self, grouped_on=\"Class\",order_column=\"Amount\", ascending=False,row_col=\"row_number\"):\n",
    "        self.grouped_on=grouped_on\n",
    "        self.order_column=order_column\n",
    "        self.ascending=ascending\n",
    "        self.row_col=row_col\n",
    "\n",
    "# row-number in SQL\n",
    "    def with_row_number(self,df :pd.DataFrame):\n",
    "        out=df.sort_values([self.grouped_on,self.order_column],ascending=[True,self.ascending]).copy()\n",
    "        out[self.row_col]=out.groupby(self.grouped_on).cumcount()+1\n",
    "        return out\n",
    "\n",
    "# dense Rank in SQL\n",
    "    def with_dense_rank(self,df: pd.DataFrame):\n",
    "        out=df.sort_values([self.grouped_on,self.order_column], ascending=[True,self.ascending]).copy()\n",
    "        out[\"dense_rank\"]=out.groupby(self.grouped_on)[self.order_column].rank(method='dense', ascending= self.ascending)\n",
    "        return out\n",
    "\n",
    "# Rank in SQL\n",
    "    def with_rank(self,df: pd.DataFrame):\n",
    "        out=df.sort_values([self.grouped_on,self.order_column], ascending=[True,self.ascending]).copy()\n",
    "        out[\"rank\"]=out.groupby(self.grouped_on)[self.order_column].rank(method='min', ascending= self.ascending)\n",
    "        return out\n",
    "\n",
    "    def top_n_rows(self,df:pd.DataFrame,n: int=10):\n",
    "        out=self.with_row_number(df)\n",
    "        return out[out[self.row_col]<=n]"
   ]
  },
  {
   "cell_type": "code",
   "execution_count": 37,
   "metadata": {},
   "outputs": [
    {
     "name": "stdout",
     "output_type": "stream",
     "text": [
      "        Class    Amount  row_number\n",
      "274771      0  25691.16           1\n",
      "58465       0  19656.53           2\n",
      "151296      0  18910.00           3\n",
      "46841       0  12910.93           4\n",
      "54018       0  11898.09           5\n",
      "169457      0  11789.84           6\n",
      "284249      0  10199.44           7\n",
      "227921      0  10000.00           8\n",
      "74699       0   8790.26           9\n",
      "245474      0   8787.00          10\n",
      "176049      1   2125.87           1\n",
      "6971        1   1809.68           2\n",
      "249167      1   1504.93           3\n",
      "89190       1   1402.16           4\n",
      "81609       1   1389.56           5\n",
      "95597       1   1354.25           6\n",
      "199896      1   1335.00           7\n",
      "10690       1   1218.89           8\n",
      "249239      1   1096.99           9\n",
      "233258      1    996.27          10\n"
     ]
    }
   ],
   "source": [
    "#class implementation\n",
    "\n",
    "ranker=Groupranker(grouped_on=\"Class\",order_column=\"Amount\", ascending=False)\n",
    "df_ranker=ranker.with_row_number(df)\n",
    "\n",
    "top10 = ranker.top_n_rows(df, n=10)      # top 10 per group\n",
    "#print(top10)\n",
    "\n",
    "print(top10[[\"Class\",\"Amount\",\"row_number\"]])"
   ]
  },
  {
   "cell_type": "code",
   "execution_count": 38,
   "metadata": {},
   "outputs": [
    {
     "name": "stdout",
     "output_type": "stream",
     "text": [
      "        Class    Amount  dense_rank\n",
      "274771      0  25691.16         1.0\n",
      "58465       0  19656.53         2.0\n",
      "151296      0  18910.00         3.0\n",
      "46841       0  12910.93         4.0\n",
      "54018       0  11898.09         5.0\n",
      "...       ...       ...         ...\n",
      "234574      1      0.00       259.0\n",
      "234705      1      0.00       259.0\n",
      "237107      1      0.00       259.0\n",
      "248296      1      0.00       259.0\n",
      "274382      1      0.00       259.0\n",
      "\n",
      "[284807 rows x 3 columns]\n",
      "top 10 among each class with dense_rank function\n",
      "        Class    Amount  row_number\n",
      "274771      0  25691.16           1\n",
      "58465       0  19656.53           2\n",
      "151296      0  18910.00           3\n",
      "46841       0  12910.93           4\n",
      "54018       0  11898.09           5\n",
      "169457      0  11789.84           6\n",
      "284249      0  10199.44           7\n",
      "227921      0  10000.00           8\n",
      "74699       0   8790.26           9\n",
      "245474      0   8787.00          10\n",
      "176049      1   2125.87           1\n",
      "6971        1   1809.68           2\n",
      "249167      1   1504.93           3\n",
      "89190       1   1402.16           4\n",
      "81609       1   1389.56           5\n",
      "95597       1   1354.25           6\n",
      "199896      1   1335.00           7\n",
      "10690       1   1218.89           8\n",
      "249239      1   1096.99           9\n",
      "233258      1    996.27          10\n"
     ]
    }
   ],
   "source": [
    "# dense Rank in SQL implementation\n",
    "\n",
    "ranker=Groupranker(grouped_on=\"Class\",order_column=\"Amount\", ascending=False)\n",
    "denserank_ex=ranker.with_dense_rank(df)\n",
    "print(denserank_ex[[\"Class\",\"Amount\",\"dense_rank\"]])\n",
    "\n",
    "top10=ranker.top_n_rows(df,n=10)\n",
    "print(\"top 10 among each class with dense_rank function\")\n",
    "print(top10[[\"Class\",\"Amount\",\"row_number\"]])"
   ]
  },
  {
   "cell_type": "code",
   "execution_count": 39,
   "metadata": {},
   "outputs": [
    {
     "name": "stdout",
     "output_type": "stream",
     "text": [
      "        Class    Amount   rank\n",
      "274771      0  25691.16    1.0\n",
      "58465       0  19656.53    2.0\n",
      "151296      0  18910.00    3.0\n",
      "46841       0  12910.93    4.0\n",
      "54018       0  11898.09    5.0\n",
      "...       ...       ...    ...\n",
      "234574      1      0.00  466.0\n",
      "234705      1      0.00  466.0\n",
      "237107      1      0.00  466.0\n",
      "248296      1      0.00  466.0\n",
      "274382      1      0.00  466.0\n",
      "\n",
      "[284807 rows x 3 columns]\n",
      "top 10 among each class with rank function\n",
      "        Class    Amount  row_number\n",
      "274771      0  25691.16           1\n",
      "58465       0  19656.53           2\n",
      "151296      0  18910.00           3\n",
      "46841       0  12910.93           4\n",
      "54018       0  11898.09           5\n",
      "169457      0  11789.84           6\n",
      "284249      0  10199.44           7\n",
      "227921      0  10000.00           8\n",
      "74699       0   8790.26           9\n",
      "245474      0   8787.00          10\n",
      "176049      1   2125.87           1\n",
      "6971        1   1809.68           2\n",
      "249167      1   1504.93           3\n",
      "89190       1   1402.16           4\n",
      "81609       1   1389.56           5\n",
      "95597       1   1354.25           6\n",
      "199896      1   1335.00           7\n",
      "10690       1   1218.89           8\n",
      "249239      1   1096.99           9\n",
      "233258      1    996.27          10\n"
     ]
    }
   ],
   "source": [
    "# Rank in SQL implementation\n",
    "ranker=Groupranker(grouped_on=\"Class\",order_column=\"Amount\", ascending=False)\n",
    "rank_ex=ranker.with_rank(df)\n",
    "print(rank_ex[[\"Class\",\"Amount\",\"rank\"]])\n",
    "\n",
    "top10=ranker.top_n_rows(df,n=10)\n",
    "print(\"top 10 among each class with rank function\")\n",
    "print(top10[[\"Class\",\"Amount\",\"row_number\"]])"
   ]
  },
  {
   "cell_type": "markdown",
   "metadata": {},
   "source": [
    "# checking mode per class"
   ]
  },
  {
   "cell_type": "code",
   "execution_count": 41,
   "metadata": {},
   "outputs": [
    {
     "name": "stdout",
     "output_type": "stream",
     "text": [
      "Class\n",
      "0    1.0\n",
      "1    1.0\n",
      "Name: Amount, dtype: float64\n"
     ]
    }
   ],
   "source": [
    "mode_per_class=df.groupby(\"Class\")[\"Amount\"].agg(lambda x:x.mode().iloc[0])\n",
    "print(mode_per_class)"
   ]
  },
  {
   "cell_type": "code",
   "execution_count": 42,
   "metadata": {},
   "outputs": [
    {
     "name": "stdout",
     "output_type": "stream",
     "text": [
      "Class\n",
      "0    [1.0]\n",
      "1    [1.0]\n",
      "Name: Amount, dtype: object\n"
     ]
    }
   ],
   "source": [
    "#get all modes\n",
    "all_modes = df.groupby('Class')['Amount'].apply(lambda x: list(x.mode()))\n",
    "print(all_modes)\n"
   ]
  },
  {
   "cell_type": "markdown",
   "metadata": {},
   "source": [
    "# though mode of both fraud and non fraud is same. it is difficult to differentiate but we can say that fraudsters test small transactions such as 1 before making huge frauds. May be fraud transactions have more amount of 1.0 transactions"
   ]
  },
  {
   "cell_type": "code",
   "execution_count": 44,
   "metadata": {},
   "outputs": [
    {
     "name": "stdout",
     "output_type": "stream",
     "text": [
      "Class\n",
      "0    13575\n",
      "1      113\n",
      "Name: Amount, dtype: int64\n"
     ]
    }
   ],
   "source": [
    "#check frequency of 1 among both classes\n",
    "freq=df.groupby(\"Class\")[\"Amount\"].apply(lambda x: (x==1.0).sum())\n",
    "print(freq)"
   ]
  },
  {
   "cell_type": "code",
   "execution_count": 45,
   "metadata": {},
   "outputs": [
    {
     "name": "stdout",
     "output_type": "stream",
     "text": [
      " top N non fraud transactions:  Amount\n",
      "1.00     13575\n",
      "1.98      6044\n",
      "0.89      4872\n",
      "9.99      4746\n",
      "15.00     3280\n",
      "0.76      2981\n",
      "10.00     2950\n",
      "1.29      2892\n",
      "1.79      2622\n",
      "0.99      2304\n",
      "Name: count, dtype: int64\n",
      " top N fraud transactions:  Amount\n",
      "1.00     113\n",
      "0.00      27\n",
      "99.99     27\n",
      "0.76      17\n",
      "0.77      10\n",
      "0.01       5\n",
      "2.00       4\n",
      "3.79       4\n",
      "2.28       3\n",
      "12.31      3\n",
      "Name: count, dtype: int64\n"
     ]
    }
   ],
   "source": [
    "# using value count to get TOP N fraudulent transactions per class\n",
    "topN_fraud_transactions= df[df[\"Class\"]==1][\"Amount\"].value_counts().head(10)\n",
    "topN_NoNfraud_transactions= df[df[\"Class\"]==0][\"Amount\"].value_counts().head(10)\n",
    "\n",
    "print(\" top N non fraud transactions: \",topN_NoNfraud_transactions)\n",
    "print(\" top N fraud transactions: \",topN_fraud_transactions)"
   ]
  },
  {
   "cell_type": "markdown",
   "metadata": {},
   "source": [
    "# most fraud transactions happen at amount 1.0 now need to compare with the frequency of other fraud transactions\n"
   ]
  },
  {
   "cell_type": "code",
   "execution_count": 47,
   "metadata": {},
   "outputs": [
    {
     "data": {
      "text/plain": [
       "Text(0, 0.5, 'Frequency of fraud amount')"
      ]
     },
     "execution_count": 47,
     "metadata": {},
     "output_type": "execute_result"
    },
    {
     "data": {
      "image/png": "[encoded data removed]",
      "text/plain": [
       "<Figure size 640x480 with 1 Axes>"
      ]
     },
     "metadata": {},
     "output_type": "display_data"
    }
   ],
   "source": [
    "sns.barplot(x=topN_fraud_transactions.index, y=topN_fraud_transactions.values, color='pink')\n",
    "plt.title(\"TOP 10 fraud transactions frequency\")\n",
    "plt.xlabel(\"Fraud Amount\")\n",
    "plt.ylabel(\"Frequency of fraud amount\")\n",
    "\n",
    "#most fraud transactions happen for amount- 1.0, 0.0, 99.99, 0.76"
   ]
  },
  {
   "cell_type": "code",
   "execution_count": 48,
   "metadata": {},
   "outputs": [
    {
     "data": {
      "text/plain": [
       "Text(0, 0.5, 'Frequency of Non fraud amount')"
      ]
     },
     "execution_count": 48,
     "metadata": {},
     "output_type": "execute_result"
    },
    {
     "data": {
      "image/png": "[encoded data removed]",
      "text/plain": [
       "<Figure size 640x480 with 1 Axes>"
      ]
     },
     "metadata": {},
     "output_type": "display_data"
    }
   ],
   "source": [
    "sns.barplot(x=topN_NoNfraud_transactions.index, y=topN_NoNfraud_transactions.values, color='blue')\n",
    "plt.title(\"TOP 10 Non fraud transactions frequency\")\n",
    "plt.xlabel(\"Non Fraud Amount\")\n",
    "plt.ylabel(\"Frequency of Non fraud amount\")\n",
    "\n"
   ]
  },
  {
   "cell_type": "code",
   "execution_count": null,
   "metadata": {},
   "outputs": [],
   "source": []
  }
 ],
 "metadata": {
  "kernelspec": {
   "display_name": "Python [conda env:base] *",
   "language": "python",
   "name": "conda-base-py"
  },
  "language_info": {
   "codemirror_mode": {
    "name": "ipython",
    "version": 3
   },
   "file_extension": ".py",
   "mimetype": "text/x-python",
   "name": "python",
   "nbconvert_exporter": "python",
   "pygments_lexer": "ipython3",
   "version": "3.12.7"
  }
 },
 "nbformat": 4,
 "nbformat_minor": 4
}
